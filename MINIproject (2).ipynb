{
 "cells": [
  {
   "cell_type": "code",
   "execution_count": 1,
   "id": "115a3824-2554-4b65-ae62-1263a8a922da",
   "metadata": {},
   "outputs": [
    {
     "name": "stdout",
     "output_type": "stream",
     "text": [
      "Welcome to 'Guess the Number'!\n",
      "I have selected a number between 1 and 100. Try to guess it!\n"
     ]
    },
    {
     "name": "stdin",
     "output_type": "stream",
     "text": [
      "Enter your guess:  7\n"
     ]
    },
    {
     "name": "stdout",
     "output_type": "stream",
     "text": [
      "Higher number please.\n"
     ]
    },
    {
     "name": "stdin",
     "output_type": "stream",
     "text": [
      "Enter your guess:  32\n"
     ]
    },
    {
     "name": "stdout",
     "output_type": "stream",
     "text": [
      "Lower number please.\n"
     ]
    },
    {
     "name": "stdin",
     "output_type": "stream",
     "text": [
      "Enter your guess:  21\n"
     ]
    },
    {
     "name": "stdout",
     "output_type": "stream",
     "text": [
      "Lower number please.\n"
     ]
    },
    {
     "name": "stdin",
     "output_type": "stream",
     "text": [
      "Enter your guess:  16\n"
     ]
    },
    {
     "name": "stdout",
     "output_type": "stream",
     "text": [
      "Lower number please.\n"
     ]
    },
    {
     "name": "stdin",
     "output_type": "stream",
     "text": [
      "Enter your guess:  12\n"
     ]
    },
    {
     "name": "stdout",
     "output_type": "stream",
     "text": [
      "Lower number please.\n"
     ]
    },
    {
     "name": "stdin",
     "output_type": "stream",
     "text": [
      "Enter your guess:  9\n"
     ]
    },
    {
     "name": "stdout",
     "output_type": "stream",
     "text": [
      "Congratulations! You've guessed the number correctly in 6 guesses.\n"
     ]
    }
   ],
   "source": [
    "'''Random Number Generation: The random.randint(1, 100) function generates a random number between 1 and 100.\n",
    "\n",
    "User Input: The program prompts the user to enter their guess using input().\n",
    "\n",
    "Comparison and Feedback: The program compares the user's guess to the generated number:\n",
    "\n",
    "If the guess is too low, it prompts \"Higher number please.\"\n",
    "If the guess is too high, it prompts \"Lower number please.\"\n",
    "If the guess is correct, it congratulates the user and shows the number of attempts.\n",
    "Error Handling: If the user inputs a non-integer value, the program catches the ValueError and asks the user to enter a valid integer.\n",
    "\n",
    "'''\n",
    "\n",
    "import random\n",
    "\n",
    "def guess_the_number():\n",
    "    # Generate a random number between 1 and 100\n",
    "    number_to_guess = random.randint(1, 100)\n",
    "    number_of_guesses = 0\n",
    "    guessed_correctly = False\n",
    "    \n",
    "    print(\"Welcome to 'Guess the Number'!\")\n",
    "    print(\"I have selected a number between 1 and 100. Try to guess it!\")\n",
    "\n",
    "    while not guessed_correctly:\n",
    "        try:\n",
    "            # Ask the user for their guess\n",
    "            user_guess = int(input(\"Enter your guess: \"))\n",
    "            number_of_guesses += 1\n",
    "            \n",
    "            if user_guess < number_to_guess:\n",
    "                print(\"Higher number please.\")\n",
    "            elif user_guess > number_to_guess:\n",
    "                print(\"Lower number please.\")\n",
    "            else:\n",
    "                guessed_correctly = True\n",
    "                print(f\"Congratulations! You've guessed the number correctly in {number_of_guesses} guesses.\")\n",
    "        except ValueError:\n",
    "            print(\"Invalid input. Please enter an integer.\")\n",
    "\n",
    "if __name__ == \"__main__\":\n",
    "    guess_the_number()\n"
   ]
  },
  {
   "cell_type": "code",
   "execution_count": 1,
   "id": "800cd7cb-0f7a-4336-b082-029f6c7832df",
   "metadata": {},
   "outputs": [
    {
     "name": "stdout",
     "output_type": "stream",
     "text": [
      "\n",
      "--- Library Menu ---\n",
      "1. Display all available books\n",
      "2. Borrow a book\n",
      "3. Return a book\n",
      "4. Add a book to the library\n",
      "5. Exit\n"
     ]
    },
    {
     "name": "stdin",
     "output_type": "stream",
     "text": [
      "Enter your choice:  1\n"
     ]
    },
    {
     "name": "stdout",
     "output_type": "stream",
     "text": [
      "Books available in the library:\n",
      "- The Great Gatsby\n",
      "- To Kill a Mockingbird\n",
      "- 1984\n",
      "- Moby Dick\n",
      "- Pride and Prejudice\n",
      "\n",
      "--- Library Menu ---\n",
      "1. Display all available books\n",
      "2. Borrow a book\n",
      "3. Return a book\n",
      "4. Add a book to the library\n",
      "5. Exit\n"
     ]
    },
    {
     "name": "stdin",
     "output_type": "stream",
     "text": [
      "Enter your choice:  2\n",
      "Enter your name:  1984\n",
      "Enter the name of the book you want to borrow:  1984\n"
     ]
    },
    {
     "name": "stdout",
     "output_type": "stream",
     "text": [
      "The book '1984' has been borrowed by 1984.\n",
      "\n",
      "--- Library Menu ---\n",
      "1. Display all available books\n",
      "2. Borrow a book\n",
      "3. Return a book\n",
      "4. Add a book to the library\n",
      "5. Exit\n"
     ]
    },
    {
     "name": "stdin",
     "output_type": "stream",
     "text": [
      "Enter your choice:  5\n"
     ]
    },
    {
     "name": "stdout",
     "output_type": "stream",
     "text": [
      "Thank you for using the library system. Goodbye!\n"
     ]
    }
   ],
   "source": [
    "'''Library Class:\n",
    "\n",
    "__init__: Initializes the library with a list of available books.\n",
    "display_available_books: Displays all books currently available in the library.\n",
    "lend_book: Allows a student to borrow a book if it's available.\n",
    "add_book: Adds a new book to the library.\n",
    "return_book: Allows a student to return a borrowed book.\n",
    "Student Class:\n",
    "\n",
    "__init__: Initializes the student with a name and an empty list of borrowed books.\n",
    "Main Function:\n",
    "\n",
    "Provides a menu-driven interface for interacting with the library system.\n",
    "Handles choices for displaying books, borrowing books, returning books, adding books, and exiting the program.\n",
    "Manages student instances and their borrowed books.'''\n",
    "\n",
    "\n",
    "class Library:\n",
    "    def __init__(self, list_of_books):\n",
    "        self.available_books = list_of_books\n",
    "\n",
    "    def display_available_books(self):\n",
    "        if not self.available_books:\n",
    "            print(\"No books are available in the library right now.\")\n",
    "        else:\n",
    "            print(\"Books available in the library:\")\n",
    "            for book in self.available_books:\n",
    "                print(f\"- {book}\")\n",
    "\n",
    "    def lend_book(self, book_name, student):\n",
    "        if book_name in self.available_books:\n",
    "            self.available_books.remove(book_name)\n",
    "            student.borrowed_books.append(book_name)\n",
    "            print(f\"The book '{book_name}' has been borrowed by {student.name}.\")\n",
    "        else:\n",
    "            print(f\"Sorry, the book '{book_name}' is not available in the library.\")\n",
    "\n",
    "    def add_book(self, book_name):\n",
    "        self.available_books.append(book_name)\n",
    "        print(f\"The book '{book_name}' has been added to the library.\")\n",
    "\n",
    "    def return_book(self, book_name, student):\n",
    "        if book_name in student.borrowed_books:\n",
    "            student.borrowed_books.remove(book_name)\n",
    "            self.available_books.append(book_name)\n",
    "            print(f\"The book '{book_name}' has been returned by {student.name}.\")\n",
    "        else:\n",
    "            print(f\"{student.name} does not have the book '{book_name}'.\")\n",
    "\n",
    "class Student:\n",
    "    def __init__(self, name):\n",
    "        self.name = name\n",
    "        self.borrowed_books = []\n",
    "\n",
    "def main():\n",
    "    library = Library([\"The Great Gatsby\", \"To Kill a Mockingbird\", \"1984\", \"Moby Dick\", \"Pride and Prejudice\"])\n",
    "    students = {}\n",
    "\n",
    "    while True:\n",
    "        print(\"\\n--- Library Menu ---\")\n",
    "        print(\"1. Display all available books\")\n",
    "        print(\"2. Borrow a book\")\n",
    "        print(\"3. Return a book\")\n",
    "        print(\"4. Add a book to the library\")\n",
    "        print(\"5. Exit\")\n",
    "        choice = input(\"Enter your choice: \")\n",
    "\n",
    "        if choice == '1':\n",
    "            library.display_available_books()\n",
    "        elif choice == '2':\n",
    "            student_name = input(\"Enter your name: \").strip()\n",
    "            if student_name not in students:\n",
    "                students[student_name] = Student(student_name)\n",
    "            book_name = input(\"Enter the name of the book you want to borrow: \").strip()\n",
    "            library.lend_book(book_name, students[student_name])\n",
    "        elif choice == '3':\n",
    "            student_name = input(\"Enter your name: \").strip()\n",
    "            if student_name not in students:\n",
    "                print(\"You need to borrow a book first before returning it.\")\n",
    "            else:\n",
    "                book_name = input(\"Enter the name of the book you want to return: \").strip()\n",
    "                library.return_book(book_name, students[student_name])\n",
    "        elif choice == '4':\n",
    "            book_name = input(\"Enter the name of the book you want to add: \").strip()\n",
    "            library.add_book(book_name)\n",
    "        elif choice == '5':\n",
    "            print(\"Thank you for using the library system. Goodbye!\")\n",
    "            break\n",
    "        else:\n",
    "            print(\"Invalid choice. Please try again.\")\n",
    "\n",
    "if __name__ == \"__main__\":\n",
    "    main()\n"
   ]
  },
  {
   "cell_type": "code",
   "execution_count": 3,
   "id": "dd110f46-b73b-48b0-b437-322b464d72e3",
   "metadata": {},
   "outputs": [
    {
     "name": "stdin",
     "output_type": "stream",
     "text": [
      "Enter your move = Rock, Paper, Scissor:  Rock\n"
     ]
    },
    {
     "name": "stdout",
     "output_type": "stream",
     "text": [
      "User choice Rock, computer choice = Scissor\n",
      "Rock smashes Scissor = You Win\n"
     ]
    }
   ],
   "source": [
    "import random\n",
    "item_list=[\"Rock\",\"Paper\",\"Scissor\"]\n",
    "\n",
    "user_choice=input(\"Enter your move = Rock, Paper, Scissor: \")\n",
    "comp_choice=random.choice(item_list)\n",
    "\n",
    "print(f\"User choice {user_choice}, computer choice = {comp_choice}\")\n",
    "\n",
    "if user_choice == comp_choice:\n",
    "    print(\"Both chooses same: = Match Tie\")\n",
    "\n",
    "elif user_choice == \"Rock\":\n",
    "    if comp_choice==\"Paper\":\n",
    "        print(\"Paper covers Rock = Computer Win\")\n",
    "    else:\n",
    "        print(\"Rock smashes Scissor = You Win\")\n",
    "\n",
    "elif user_choice == \"Paper\":\n",
    "    if comp_choice==\"Scissor\":\n",
    "        print(\"Scissor cuts paper, computer Win\")\n",
    "    else:\n",
    "        print(\"Paper covers rock,You Win\")\n",
    "\n",
    "elif user_choice == \"Scissor\":\n",
    "    if comp_choice == \"Paper\":\n",
    "        print(\"Scissor cuts paper, You Win\")\n",
    "    else:\n",
    "        print(\"Rock smashes Scissor = Computer Win\")"
   ]
  },
  {
   "cell_type": "code",
   "execution_count": null,
   "id": "7accc187-1116-45b5-9edf-f1885af7d2aa",
   "metadata": {},
   "outputs": [],
   "source": []
  }
 ],
 "metadata": {
  "kernelspec": {
   "display_name": "Python [conda env:base] *",
   "language": "python",
   "name": "conda-base-py"
  },
  "language_info": {
   "codemirror_mode": {
    "name": "ipython",
    "version": 3
   },
   "file_extension": ".py",
   "mimetype": "text/x-python",
   "name": "python",
   "nbconvert_exporter": "python",
   "pygments_lexer": "ipython3",
   "version": "3.12.7"
  }
 },
 "nbformat": 4,
 "nbformat_minor": 5
}
